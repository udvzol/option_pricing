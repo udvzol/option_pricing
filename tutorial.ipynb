{
 "cells": [
  {
   "cell_type": "code",
   "execution_count": 1,
   "metadata": {
    "collapsed": true
   },
   "outputs": [],
   "source": [
    "import src\n",
    "import numpy as np\n",
    "import matplotlib.pyplot as plt\n",
    "from qiskit.providers.aer.noise import NoiseModel, depolarizing_error"
   ]
  },
  {
   "cell_type": "markdown",
   "source": [
    "## Prepare the option circuit\n"
   ],
   "metadata": {
    "collapsed": false
   }
  },
  {
   "cell_type": "code",
   "execution_count": 2,
   "outputs": [
    {
     "name": "stdout",
     "output_type": "stream",
     "text": [
      "                 ┌───────────┐ ┌───┐┌────────────┐┌───┐          »\n",
      "           i_0: ─┤ Ry(1.682) ├─┤ X ├┤ Ry(1.3513) ├┤ X ├──────────»\n",
      "                ┌┴───────────┴┐└─┬─┘└────────────┘└─┬─┘┌───┐     »\n",
      "           i_1: ┤ Ry(0.93287) ├──■──────────────────■──┤ X ├──■──»\n",
      "                └────┬───┬────┘                        └───┘  │  »\n",
      "a_comparator_0: ─────┤ X ├────────────────────────────────────■──»\n",
      "                     ├───┤                                  ┌─┴─┐»\n",
      "a_comparator_1: ─────┤ X ├──────────────────────────────────┤ X ├»\n",
      "                 ┌───┴───┴────┐                             └───┘»\n",
      "      a_payoff: ─┤ Ry(1.5508) ├──────────────────────────────────»\n",
      "                 └────────────┘                                  »\n",
      "«                                                                 \n",
      "«           i_0: ────────────────────────■────────────────────────\n",
      "«                      ┌───┐             │                        \n",
      "«           i_1: ──────┤ X ├─────────────┼───────────────■────────\n",
      "«                      ├───┤             │               │        \n",
      "«a_comparator_0: ──────┤ X ├─────────────┼───────────────┼────────\n",
      "«                      └───┘             │               │        \n",
      "«a_comparator_1: ────────■───────────────■───────────────■────────\n",
      "«                ┌───────┴───────┐┌──────┴───────┐┌──────┴───────┐\n",
      "«      a_payoff: ┤ Ry(-0.025302) ├┤ Ry(0.021767) ├┤ Ry(0.043535) ├\n",
      "«                └───────────────┘└──────────────┘└──────────────┘\n"
     ]
    },
    {
     "data": {
      "text/plain": "<Figure size 432x288 with 1 Axes>",
      "image/png": "[encoded data removed]"
     },
     "metadata": {
      "needs_background": "light"
     },
     "output_type": "display_data"
    }
   ],
   "source": [
    "#Set the parameters\n",
    "params={'n':2, #number of state preparation qubits\n",
    "        'S':2, #spot price\n",
    "        'K':2, #strike #price\n",
    "        'vol':0.3, #volatility\n",
    "        'r': 0.05, #risk-free rate\n",
    "        't':1, #time to maturity\n",
    "        }\n",
    "option=src.EuropeanCallOption(**params)\n",
    "plt.bar(option.x,option.probs)\n",
    "#We could look at other quantitites, curves, e.g., the payoff and it's numerical approximation\n",
    "#plt.plot(option.x, option.payoff(option.x))\n",
    "plt.xlabel(\"underlying price at maturity\")\n",
    "plt.ylabel(\"probability\")\n",
    "print(option.circuit())"
   ],
   "metadata": {
    "collapsed": false
   }
  },
  {
   "cell_type": "markdown",
   "source": [
    "## Prepare the amplitude estimation circuits\n"
   ],
   "metadata": {
    "collapsed": false
   }
  },
  {
   "cell_type": "code",
   "execution_count": 3,
   "outputs": [
    {
     "data": {
      "text/plain": "[<qiskit.circuit.quantumcircuit.QuantumCircuit at 0x1e2f4fef070>,\n <qiskit.circuit.quantumcircuit.QuantumCircuit at 0x1e2f500a670>,\n <qiskit.circuit.quantumcircuit.QuantumCircuit at 0x1e2f544d520>,\n <qiskit.circuit.quantumcircuit.QuantumCircuit at 0x1e2f5495130>]"
     },
     "execution_count": 3,
     "metadata": {},
     "output_type": "execute_result"
    }
   ],
   "source": [
    "qc = option.circuit(barriers=False)\n",
    "#Make a custom zero reflection operator that reuses the comparator ancillas\n",
    "zero_reflection = src.QAError.zero_reflection(qc.qregs, 0,2,1, \"v-chain-dirty\")\n",
    "#The oracle of the Grover's algorithm\n",
    "oracle = src.QuantumCircuit(2 * option.n + 1)\n",
    "oracle.z(2 * option.n)\n",
    "#Create the QAError class that can give you the necessary circuits, the errors are also implemented in this\n",
    "qae = src.QAError(oracle, qc, [2*option.n], zero_reflection=zero_reflection, basis_gates=[\"rz\",\"sx\",\"x\",\"cx\"], device=\"CPU\")\n",
    "#Prepare the circuits for different powers of the Grover operator\n",
    "qae.circuit_sequence([0,1,2,3])"
   ],
   "metadata": {
    "collapsed": false
   }
  },
  {
   "cell_type": "markdown",
   "source": [
    "## Calculate the Cramér-Rao error bound for known Grover operator error rate\n"
   ],
   "metadata": {
    "collapsed": false
   }
  },
  {
   "cell_type": "code",
   "execution_count": 4,
   "outputs": [],
   "source": [
    "#Define the noise model\n",
    "error1=1e-5 #1-qubit gate error\n",
    "error2=1e-4 #2-qubit gate error\n",
    "noise_model = NoiseModel(basis_gates = ['id', 'rz', 'sx', 'x', 'cx', 'reset'])\n",
    "noise_model.add_all_qubit_quantum_error(depolarizing_error(error1, 1), 'id')\n",
    "noise_model.add_all_qubit_quantum_error(depolarizing_error(error1, 1), 'sx')\n",
    "noise_model.add_all_qubit_quantum_error(depolarizing_error(error1, 1), 'x')\n",
    "noise_model.add_all_qubit_quantum_error(depolarizing_error(error2, 2), 'cx')\n",
    "#Fit the  Grover operator coherence probability on ten linearly increasing Grover steps\n",
    "pQ = qae.fit_pcoh(kmax=10,noise_model = noise_model)[0][1]"
   ],
   "metadata": {
    "collapsed": false
   }
  },
  {
   "cell_type": "code",
   "execution_count": 5,
   "outputs": [
    {
     "name": "stdout",
     "output_type": "stream",
     "text": [
      "The schedule is: [  0   1   2   4   8  16  32  64 128 256 512]\n",
      "The Cramér-Rao error bounds of the probability for N=100 with increasing schedule steps are: [0.04999344 0.028635   0.01474236 0.00791894 0.004169   0.00196076\n",
      " 0.00064397 0.00047462 0.00038419 0.00035917]\n",
      "The same error bounds on the price are: [7.51799862 4.30612291 2.21695181 1.19084845 0.62693356 0.29485838\n",
      " 0.09684045 0.07137283 0.05777506 0.05401258]\n"
     ]
    }
   ],
   "source": [
    "#Choose the schedule type\n",
    "cr = src.CRCalculatorExponential(N=100, t0 = np.arcsin(np.sqrt(option.ideal_prob())))\n",
    "#Set the previously calculated Grover operator coherence probability (error_rate = 1-coherence_probability)\n",
    "cr.set_pcoh(pQ)\n",
    "#set the maximum of the schedule\n",
    "cr.set_schedule(mkmax=1000)\n",
    "print(\"The schedule is:\", cr.schedule)\n",
    "print(\"The Cramér-Rao error bounds of the probability for N=100 with increasing schedule steps are:\", cr.get_errors())\n",
    "print(\"The same error bounds on the price are:\", option.error_to_price(cr.get_errors()))"
   ],
   "metadata": {
    "collapsed": false
   }
  },
  {
   "cell_type": "markdown",
   "source": [
    "## Calculate the systematic error"
   ],
   "metadata": {
    "collapsed": false
   }
  },
  {
   "cell_type": "code",
   "execution_count": 6,
   "outputs": [
    {
     "name": "stdout",
     "output_type": "stream",
     "text": [
      "The systematic error is: 0.0016687926644976536\n",
      "The analytic option price (Black-Sholes model): 0.2846250957197164\n"
     ]
    }
   ],
   "source": [
    "#Simply substract the numerical and analytic price.\n",
    "print(\"The systematic error is:\",option.ideal_price()-option.BS_price())\n",
    "print(\"The analytic option price (Black-Sholes model):\", option.BS_price())"
   ],
   "metadata": {
    "collapsed": false
   }
  },
  {
   "cell_type": "markdown",
   "source": [
    "# We can solve the same problem with the Fourier series base function application"
   ],
   "metadata": {
    "collapsed": false
   }
  },
  {
   "cell_type": "code",
   "execution_count": 15,
   "outputs": [],
   "source": [
    "kmax = 5\n",
    "optionF=src.EuropeanCallOptionFourier(**params)\n",
    "qc_0 = optionF.circuit(fourier_n=0, fourier_beta=np.pi)\n",
    "qc_cos = [optionF.circuit(fourier_n=i, fourier_beta=0) for i in range(1,kmax+1)]\n",
    "qc_sin = [optionF.circuit(fourier_n=i, fourier_beta=np.pi/2) for i in range(1,kmax+1)]\n",
    "#For amplitude estimation we have to prepare a QAE sequence for every circuit. For simplicity here we only calculate the probability\n",
    "term_0 = src.simulate_prob(qc_0,[2*params['n']])[1]\n",
    "terms_cos = np.array([src.simulate_prob(qc,[2*params['n']])[1] for qc in qc_cos])\n",
    "terms_sin = np.array([src.simulate_prob(qc,[2*params['n']])[1] for qc in qc_sin])\n",
    "price = optionF.probs_to_price(term_0, terms_cos, terms_sin)"
   ],
   "metadata": {
    "collapsed": false
   }
  },
  {
   "cell_type": "code",
   "execution_count": 16,
   "outputs": [
    {
     "name": "stdout",
     "output_type": "stream",
     "text": [
      "The price encoded by the quantum circuit: 0.2850849322155017\n",
      "The price from the Black-Sholes model: 0.2846250957197164\n"
     ]
    }
   ],
   "source": [
    "print(\"The price encoded by the quantum circuit:\",price)\n",
    "print(\"The price from the Black-Sholes model:\", optionF.BS_price())"
   ],
   "metadata": {
    "collapsed": false
   }
  },
  {
   "cell_type": "code",
   "execution_count": null,
   "outputs": [],
   "source": [],
   "metadata": {
    "collapsed": false
   }
  }
 ],
 "metadata": {
  "kernelspec": {
   "display_name": "Python 3",
   "language": "python",
   "name": "python3"
  },
  "language_info": {
   "codemirror_mode": {
    "name": "ipython",
    "version": 2
   },
   "file_extension": ".py",
   "mimetype": "text/x-python",
   "name": "python",
   "nbconvert_exporter": "python",
   "pygments_lexer": "ipython2",
   "version": "2.7.6"
  }
 },
 "nbformat": 4,
 "nbformat_minor": 0
}
